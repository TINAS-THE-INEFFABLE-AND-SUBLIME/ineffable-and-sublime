{
 "cells": [
  {
   "cell_type": "code",
   "execution_count": null,
   "id": "7ed592e7",
   "metadata": {
    "vscode": {
     "languageId": "html"
    }
   },
   "outputs": [],
   "source": [
    "<!DOCTYPE html>\n",
    "<html>\n",
    "<head>\n",
    "  <title>Team |The Ineffable and Sublime</title>\n",
    "</head>\n",
    "<body>\n",
    "\n",
    "  <h1>Meet Our Team</h1>\n",
    "\n",
    "  <nav>\n",
    "    <a href=\"index.html\">Home</a> |\n",
    "    <a href=\"about.html\">About</a> |\n",
    "    <a href=\"team.html\">Team</a> |\n",
    "    <a href=\"contact.html\">Contact</a>\n",
    "  </nav>\n",
    "\n",
    "  <hr>\n",
    "\n",
    "  <ul>\n",
    "    <li><strong>Adi</strong> – Founder</li>\n",
    "     <li><strong>Shreya</strong> – Founder</li>\n",
    "  </ul>\n",
    "\n",
    "</body>\n",
    "</html>\n"
   ]
  }
 ],
 "metadata": {
  "language_info": {
   "name": "python"
  }
 },
 "nbformat": 4,
 "nbformat_minor": 5
}
