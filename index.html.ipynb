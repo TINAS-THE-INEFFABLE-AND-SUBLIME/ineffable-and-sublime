{
 "cells": [
  {
   "cell_type": "code",
   "execution_count": null,
   "id": "7ed592e7",
   "metadata": {
    "vscode": {
     "languageId": "html"
    }
   },
   "outputs": [],
   "source": [
    "<!DOCTYPE html>\n",
    "<html>\n",
    "<head>\n",
    "  <title>The Ineffable and Sublime | Home</title>\n",
    "</head>\n",
    "<body>\n",
    "\n",
    "  <h1>Welcome to The Ineffable and Sublime </h1>\n",
    "  <p>A literary magazine where ink speaks what words can't describe.</p>\n",
    "\n",
    "  <nav>\n",
    "    <a href=\"index.html.ipynb\">Home</a> |\n",
    "    <a href=\"about.html.ipynb\">About</a> |\n",
    "    <a href=\"team.html.ipynb\">Team</a> |\n",
    "    <a href=\"contact.html.ipynb\">Contact</a>\n",
    "  </nav>\n",
    "\n",
    "  <hr>\n",
    "\n",
    "</body>\n",
    "</html>\n"
   ]
  }
 ],
 "metadata": {
  "language_info": {
   "name": "python"
  }
 },
 "nbformat": 4,
 "nbformat_minor": 5
}
