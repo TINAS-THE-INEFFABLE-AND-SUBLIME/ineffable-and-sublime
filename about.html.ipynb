{
 "cells": [
  {
   "cell_type": "code",
   "execution_count": null,
   "id": "7ed592e7",
   "metadata": {
    "vscode": {
     "languageId": "html"
    }
   },
   "outputs": [],
   "source": [
    "<!DOCTYPE html>\n",
    "<html>\n",
    "<head>\n",
    "  <title>About |The Ineffable and Sublime</title>\n",
    "</head>\n",
    "<body>\n",
    "\n",
    "  <h1>About Ineffable and Sublime</h1>\n",
    "  \n",
    "  <nav>\n",
    "    <a href=\"index.html\">Home</a> |\n",
    "    <a href=\"about.html\">About</a> |\n",
    "    <a href=\"team.html\">Team</a> |\n",
    "    <a href=\"contact.html\">Contact</a>\n",
    "  </nav>\n",
    "\n",
    "  <hr>\n",
    "\n",
    "  \n",
    "</body>\n",
    "</html>\n"
   ]
  }
 ],
 "metadata": {
  "language_info": {
   "name": "python"
  }
 },
 "nbformat": 4,
 "nbformat_minor": 5
}
